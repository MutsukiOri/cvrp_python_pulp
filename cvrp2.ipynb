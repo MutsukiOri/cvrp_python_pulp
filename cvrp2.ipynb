{
 "metadata": {
  "language_info": {
   "codemirror_mode": {
    "name": "ipython",
    "version": 3
   },
   "file_extension": ".py",
   "mimetype": "text/x-python",
   "name": "python",
   "nbconvert_exporter": "python",
   "pygments_lexer": "ipython3",
   "version": "3.7.3-final"
  },
  "orig_nbformat": 2,
  "kernelspec": {
   "name": "python3",
   "display_name": "Python 3",
   "language": "python"
  }
 },
 "nbformat": 4,
 "nbformat_minor": 2,
 "cells": [
  {
   "cell_type": "code",
   "execution_count": 2,
   "metadata": {},
   "outputs": [],
   "source": [
    "import math\n",
    "import pulp\n",
    "import numpy as np"
   ]
  },
  {
   "cell_type": "code",
   "execution_count": 3,
   "metadata": {},
   "outputs": [],
   "source": [
    "num_nodes = 32\n",
    "capacity = 100\n",
    "demand = np.array([0, 19, 21, 6, 19, 7, 12, 16, 6, 16, \n",
    "                   8, 14, 21, 16, 3, 22, 18, 19, 1, 24,\n",
    "                   8, 12, 4, 8, 24, 24, 2, 20, 15, 2,\n",
    "                   14, 9])"
   ]
  },
  {
   "cell_type": "code",
   "execution_count": 4,
   "metadata": {},
   "outputs": [],
   "source": [
    "coordinate = np.array([[82, 76],\n",
    " [96, 44],\n",
    " [50, 5],\n",
    " [49, 8],\n",
    " [13, 7],\n",
    " [29, 89],\n",
    " [58, 30],\n",
    " [84, 39],\n",
    " [14, 24],\n",
    " [2, 39],\n",
    " [3, 82],\n",
    " [5, 10],\n",
    " [98, 52],\n",
    " [84, 25],\n",
    " [61, 59],\n",
    " [1, 65],\n",
    " [88, 51],\n",
    " [91, 2],\n",
    " [19, 32],\n",
    " [93, 3],\n",
    " [50, 93],\n",
    " [98, 14],\n",
    " [5, 42],\n",
    " [42, 9],\n",
    " [61, 62],\n",
    " [9, 97],\n",
    " [80, 55],\n",
    " [57, 69],\n",
    " [23, 15],\n",
    " [20, 70],\n",
    " [85, 60],\n",
    " [98, 5]])\n"
   ]
  },
  {
   "cell_type": "code",
   "execution_count": 5,
   "metadata": {},
   "outputs": [
    {
     "output_type": "execute_result",
     "data": {
      "text/plain": [
       "array([ 3, 82])"
      ]
     },
     "metadata": {},
     "execution_count": 5
    }
   ],
   "source": [
    "coordinate[10]"
   ]
  },
  {
   "cell_type": "code",
   "execution_count": 6,
   "metadata": {},
   "outputs": [],
   "source": [
    "def computeDistance(c1, c2):\n",
    "    return math.sqrt( pow(c2[0] - c1[0], 2) + pow(c2[1] - c1[1], 2))\n",
    "distance = np.array([ [ round(computeDistance( c1, c2 )) for c1 in coordinate ] \\\n",
    "                    for c2 in coordinate ])"
   ]
  },
  {
   "cell_type": "code",
   "execution_count": 7,
   "metadata": {},
   "outputs": [
    {
     "output_type": "execute_result",
     "data": {
      "text/plain": [
       "array([[  0,  35,  78, ...,  62,  16,  73],\n",
       "       [ 35,   0,  60, ...,  80,  19,  39],\n",
       "       [ 78,  60,   0, ...,  72,  65,  48],\n",
       "       ...,\n",
       "       [ 62,  80,  72, ...,   0,  66, 102],\n",
       "       [ 16,  19,  65, ...,  66,   0,  57],\n",
       "       [ 73,  39,  48, ..., 102,  57,   0]])"
      ]
     },
     "metadata": {},
     "execution_count": 7
    }
   ],
   "source": [
    "distance"
   ]
  },
  {
   "cell_type": "code",
   "execution_count": 8,
   "metadata": {},
   "outputs": [],
   "source": [
    "# formulate CVRP as integer programming problem\n",
    "# V = { 0, 1, ..., num_nodes - 1 }, where 0 means the depot\n",
    "problem = pulp.LpProblem( \"CVRP\", pulp.LpMinimize )"
   ]
  },
  {
   "cell_type": "code",
   "execution_count": 1,
   "metadata": {},
   "outputs": [
    {
     "output_type": "error",
     "ename": "NameError",
     "evalue": "name 'np' is not defined",
     "traceback": [
      "\u001b[0;31m---------------------------------------------------------------------------\u001b[0m",
      "\u001b[0;31mNameError\u001b[0m                                 Traceback (most recent call last)",
      "\u001b[0;32m<ipython-input-1-94dd3650f85a>\u001b[0m in \u001b[0;36m<module>\u001b[0;34m\u001b[0m\n\u001b[1;32m      1\u001b[0m \u001b[0;31m## variables\u001b[0m\u001b[0;34m\u001b[0m\u001b[0;34m\u001b[0m\u001b[0;34m\u001b[0m\u001b[0m\n\u001b[0;32m----> 2\u001b[0;31m x = np.array([ [ pulp.LpVariable( 'x_{}_{}'.format( i, j ), cat=\"Binary\" ) \\\n\u001b[0m\u001b[1;32m      3\u001b[0m         if i != j else None for j in range(num_nodes) ] \\\n\u001b[1;32m      4\u001b[0m         for i in range(num_nodes) ])\n\u001b[1;32m      5\u001b[0m y = np.array([ [ pulp.LpVariable( 'y_{}_{}'.format( i, j ), cat=\"Binary\" ) \\\n",
      "\u001b[0;31mNameError\u001b[0m: name 'np' is not defined"
     ]
    }
   ],
   "source": [
    "## variables\n",
    "x = np.array([ [ pulp.LpVariable( 'x_{}_{}'.format( i, j ), cat=\"Binary\" ) \\\n",
    "        if i != j else None for j in range(num_nodes) ] \\\n",
    "        for i in range(num_nodes) ])\n",
    "u = np.array([ pulp.LpVariable( 'u_{}'.format( i ), demand[i], capacity, cat=\"Integer\" ) \\\n",
    "        for i in range(1,num_nodes) ])"
   ]
  },
  {
   "cell_type": "code",
   "execution_count": 65,
   "metadata": {},
   "outputs": [],
   "source": [
    "## objective function: \\sum_{i \\in V}\\sum_{j \\in V, i!=j} c_ij x_ij\n",
    "problem += pulp.lpSum( distance[i][j] * x[i][j] for i in range(num_nodes) \\\n",
    "                        for j in range(num_nodes) if i != j )\n"
   ]
  },
  {
   "cell_type": "code",
   "execution_count": 66,
   "metadata": {},
   "outputs": [],
   "source": [
    "## constraints:\n",
    "### \\sum_{i \\in V\\{j}} x_ij = 1 for all j \\in V\\{0}\n",
    "for j in range(1,num_nodes):\n",
    "    problem += pulp.lpSum( x[i][j] for i in range(num_nodes) if i != j ) == 1\n",
    "\n",
    "### \\sum_{j \\in V\\{i}} x_ij = 1 for all i \\in V\\{0}\n",
    "for i in range(1,num_nodes):\n",
    "    problem += pulp.lpSum( x[i][j] for j in range(num_nodes) if i != j ) == 1\n",
    "\n",
    "### u_i - u_j + C x_ij <= C - d_j for i, j \\in V\\{0} i != j such that d_i  + d_j <= C\n",
    "for i in range(1,num_nodes):\n",
    "    for j in range(1,num_nodes):\n",
    "        if i != j and demand[i] + demand[j] <= capacity:\n",
    "            problem += u[i-1] - u[j-1] + capacity * x[i][j] <= capacity - demand[j]\n"
   ]
  },
  {
   "cell_type": "code",
   "execution_count": 67,
   "metadata": {},
   "outputs": [
    {
     "output_type": "stream",
     "name": "stdout",
     "text": [
      "objective value = 1274.0\n"
     ]
    }
   ],
   "source": [
    "# solve\n",
    "threads = 8\n",
    "maxSeconds = 60\n",
    "result = problem.solve(pulp.PULP_CBC_CMD(threads=threads, maxSeconds=maxSeconds))\n",
    "\n",
    "print(\"objective value = {}\".format(pulp.value(problem.objective)))\n"
   ]
  },
  {
   "cell_type": "code",
   "execution_count": null,
   "metadata": {},
   "outputs": [],
   "source": []
  }
 ]
}