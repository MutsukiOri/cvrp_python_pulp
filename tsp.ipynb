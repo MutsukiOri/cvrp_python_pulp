{
 "metadata": {
  "language_info": {
   "codemirror_mode": {
    "name": "ipython",
    "version": 3
   },
   "file_extension": ".py",
   "mimetype": "text/x-python",
   "name": "python",
   "nbconvert_exporter": "python",
   "pygments_lexer": "ipython3",
   "version": "3.7.3-final"
  },
  "orig_nbformat": 2,
  "kernelspec": {
   "name": "python3",
   "display_name": "Python 3.7.3 64-bit ('base': conda)",
   "metadata": {
    "interpreter": {
     "hash": "398dc28c06ad810e77de546bbdfa897a6ee0b83e59a5207339dda01a7843e01d"
    }
   }
  }
 },
 "nbformat": 4,
 "nbformat_minor": 2,
 "cells": [
  {
   "cell_type": "code",
   "execution_count": 441,
   "metadata": {},
   "outputs": [],
   "source": [
    "import numpy as np\n",
    "import pandas as pd\n",
    "import pulp\n",
    "from pulp import LpInteger"
   ]
  },
  {
   "cell_type": "code",
   "execution_count": 489,
   "metadata": {},
   "outputs": [],
   "source": [
    "\n",
    "distance = np.loadtxt(\"./\" +'distance.csv', delimiter=',', dtype='int64')"
   ]
  },
  {
   "cell_type": "code",
   "execution_count": 490,
   "metadata": {},
   "outputs": [
    {
     "output_type": "execute_result",
     "data": {
      "text/plain": [
       "array([[  0,  35,  78, ...,  62,  16,  73],\n",
       "       [ 35,   0,  60, ...,  80,  19,  39],\n",
       "       [ 78,  60,   0, ...,  72,  65,  48],\n",
       "       ...,\n",
       "       [ 62,  80,  72, ...,   0,  66, 102],\n",
       "       [ 16,  19,  65, ...,  66,   0,  57],\n",
       "       [ 73,  39,  48, ..., 102,  57,   0]])"
      ]
     },
     "metadata": {},
     "execution_count": 490
    }
   ],
   "source": [
    "\n",
    "num = len(distance[0])\n",
    "distance\n"
   ]
  },
  {
   "cell_type": "code",
   "execution_count": 491,
   "metadata": {},
   "outputs": [
    {
     "output_type": "execute_result",
     "data": {
      "text/plain": [
       "32"
      ]
     },
     "metadata": {},
     "execution_count": 491
    }
   ],
   "source": [
    "num"
   ]
  },
  {
   "cell_type": "code",
   "execution_count": 492,
   "metadata": {},
   "outputs": [
    {
     "output_type": "execute_result",
     "data": {
      "text/plain": [
       "TSP:\n",
       "MINIMIZE\n",
       "None\n",
       "VARIABLES"
      ]
     },
     "metadata": {},
     "execution_count": 492
    }
   ],
   "source": [
    "problem = pulp.LpProblem( \"TSP\", pulp.LpMinimize )\n",
    "problem"
   ]
  },
  {
   "cell_type": "code",
   "execution_count": 493,
   "metadata": {},
   "outputs": [],
   "source": [
    "x = np.array([ [ pulp.LpVariable( 'x_{}_{}'.format( i, j ), cat=\"Binary\" ) \\\n",
    "        if i != j else None for j in range(len(distance[0])) ] \\\n",
    "        for i in range(len(distance[0])) ])\n",
    "y = np.array([ [ pulp.LpVariable( 'y_{}_{}'.format( i, j ), cat=LpInteger, lowBound=0) \\\n",
    "        if i != j else None for j in range(len(distance[0])) ] \\\n",
    "        for i in range(len(distance[0])) ])"
   ]
  },
  {
   "cell_type": "code",
   "execution_count": 494,
   "metadata": {},
   "outputs": [
    {
     "output_type": "execute_result",
     "data": {
      "text/plain": [
       "array([[None, y_0_1, y_0_2, ..., y_0_29, y_0_30, y_0_31],\n",
       "       [y_1_0, None, y_1_2, ..., y_1_29, y_1_30, y_1_31],\n",
       "       [y_2_0, y_2_1, None, ..., y_2_29, y_2_30, y_2_31],\n",
       "       ...,\n",
       "       [y_29_0, y_29_1, y_29_2, ..., None, y_29_30, y_29_31],\n",
       "       [y_30_0, y_30_1, y_30_2, ..., y_30_29, None, y_30_31],\n",
       "       [y_31_0, y_31_1, y_31_2, ..., y_31_29, y_31_30, None]],\n",
       "      dtype=object)"
      ]
     },
     "metadata": {},
     "execution_count": 494
    }
   ],
   "source": [
    "y"
   ]
  },
  {
   "cell_type": "code",
   "execution_count": 495,
   "metadata": {},
   "outputs": [],
   "source": [
    "# 目的関数\n",
    "problem += pulp.lpSum( distance[i][j] * x[i][j] for i in range(num) \\\n",
    "                        for j in range(num) if i != j )\n"
   ]
  },
  {
   "cell_type": "code",
   "execution_count": 496,
   "metadata": {},
   "outputs": [],
   "source": [
    "for i in range(num):\n",
    "    problem += pulp.lpSum( x[i][j] for j in range(num)) == 1\n"
   ]
  },
  {
   "cell_type": "code",
   "execution_count": 497,
   "metadata": {},
   "outputs": [],
   "source": [
    "### \\sum_{j \\in V\\{i}} x_ij = 1 for all i \\in V\\{0}\n",
    "for i in range(num):\n",
    "    problem += pulp.lpSum( x[h][i] for h in range(num)) == 1"
   ]
  },
  {
   "cell_type": "code",
   "execution_count": 498,
   "metadata": {},
   "outputs": [],
   "source": [
    "# flow formation 制約\n",
    "for i in range(num):\n",
    "    for j in range(num):\n",
    "        if i == j:\n",
    "            None\n",
    "        else:\n",
    "            problem += y[i][j] <= (x[i][j] * (num-1))"
   ]
  },
  {
   "cell_type": "code",
   "execution_count": 499,
   "metadata": {},
   "outputs": [],
   "source": [
    "for i in range(1,len(distance[0])):\n",
    "    problem += pulp.lpSum( y[i][j] for j in range(len(distance[0])) if i != j ) - pulp.lpSum( y[h][i] for h in range(len(distance[0])) if i != h ) == 1"
   ]
  },
  {
   "cell_type": "code",
   "execution_count": 500,
   "metadata": {},
   "outputs": [],
   "source": [
    "problem += pulp.lpSum( y[0][j] for j in range(len(distance[0])) if 0 != j ) - pulp.lpSum( y[h][0] for h in range(len(distance[0])) if 0 != h ) == -(num - 1)"
   ]
  },
  {
   "cell_type": "code",
   "execution_count": 501,
   "metadata": {},
   "outputs": [],
   "source": [
    "problem += pulp.lpSum(y[0][j] for j in range(1,num)) == 0"
   ]
  },
  {
   "cell_type": "code",
   "execution_count": 502,
   "metadata": {},
   "outputs": [],
   "source": [
    "import time"
   ]
  },
  {
   "cell_type": "code",
   "execution_count": 507,
   "metadata": {},
   "outputs": [
    {
     "output_type": "stream",
     "name": "stdout",
     "text": [
      "objective value = 466.0\n"
     ]
    }
   ],
   "source": [
    "# solve\n",
    "# threads = 8\n",
    "# timeLimit = 60\n",
    "# t1 = time.clock()\n",
    "result = problem.solve()\n",
    "# t2 = time.clock()\n",
    "print(\"objective value = {}\".format(pulp.value(problem.objective)))\n",
    "# print(t2-t1)"
   ]
  },
  {
   "cell_type": "code",
   "execution_count": 508,
   "metadata": {},
   "outputs": [
    {
     "output_type": "execute_result",
     "data": {
      "text/plain": [
       "1"
      ]
     },
     "metadata": {},
     "execution_count": 508
    }
   ],
   "source": [
    "problem.status"
   ]
  },
  {
   "cell_type": "code",
   "execution_count": 505,
   "metadata": {},
   "outputs": [
    {
     "output_type": "stream",
     "name": "stdout",
     "text": [
      "objective value = 466.0\n"
     ]
    }
   ],
   "source": [
    "print(\"objective value = {}\".format(pulp.value(problem.objective)))"
   ]
  },
  {
   "cell_type": "code",
   "execution_count": 506,
   "metadata": {},
   "outputs": [
    {
     "output_type": "stream",
     "name": "stdout",
     "text": [
      "y_1_7 5.0\ny_2_3 13.0\ny_3_23 14.0\ny_4_11 17.0\ny_5_20 27.0\ny_6_2 12.0\ny_7_13 6.0\ny_8_18 19.0\ny_9_22 21.0\ny_10_25 25.0\ny_11_8 18.0\ny_12_1 4.0\ny_13_21 7.0\ny_14_0 31.0\ny_15_29 23.0\ny_16_12 3.0\ny_17_6 11.0\ny_18_9 20.0\ny_19_17 10.0\ny_20_27 28.0\ny_21_31 8.0\ny_22_15 22.0\ny_23_28 15.0\ny_24_14 30.0\ny_25_5 26.0\ny_26_16 2.0\ny_27_24 29.0\ny_28_4 16.0\ny_29_10 24.0\ny_30_26 1.0\ny_31_19 9.0\n"
     ]
    }
   ],
   "source": [
    "for i in range(num):\n",
    "    for j in range(num):\n",
    "        if i !=j:\n",
    "            if pulp.value(y[i][j]) != 0:\n",
    "                print(y[i][j],pulp.value(y[i][j]))"
   ]
  },
  {
   "cell_type": "code",
   "execution_count": null,
   "metadata": {},
   "outputs": [],
   "source": []
  }
 ]
}